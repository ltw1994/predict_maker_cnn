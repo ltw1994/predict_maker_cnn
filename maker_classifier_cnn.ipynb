{
 "cells": [
  {
   "cell_type": "code",
   "execution_count": 228,
   "metadata": {},
   "outputs": [],
   "source": [
    "from PIL import Image\n",
    "import numpy as np\n",
    "import pandas as pd\n",
    "import tensorflow as tf\n",
    "import matplotlib.pyplot as plt"
   ]
  },
  {
   "cell_type": "code",
   "execution_count": 229,
   "metadata": {},
   "outputs": [],
   "source": [
    "train = pd.read_csv('/Users/taewan/Desktop/Project/predict_maker_cnn/train_data.csv')\n",
    "test = pd.read_csv('/Users/taewan/Desktop/Project/predict_maker_cnn/test_data.csv')"
   ]
  },
  {
   "cell_type": "code",
   "execution_count": 230,
   "metadata": {},
   "outputs": [],
   "source": [
    "train_list = []\n",
    "train_label_list = []\n",
    "for i in range(len(train)) :\n",
    "    a = train['img_encode'][i].split(\",\")\n",
    "    train_list.append(a)\n",
    "    b = train['label'][i].split(\",\")\n",
    "    train_label_list.append(b)"
   ]
  },
  {
   "cell_type": "code",
   "execution_count": 231,
   "metadata": {},
   "outputs": [],
   "source": [
    "train_data = np.array(train_list, dtype = 'float32')\n",
    "train_label = np.array(train_label_list, dtype = 'float32')"
   ]
  },
  {
   "cell_type": "code",
   "execution_count": 232,
   "metadata": {},
   "outputs": [],
   "source": [
    "test_list = []\n",
    "test_label_list = []\n",
    "for i in range(len(test)) :\n",
    "    a = test['img_encode'][i].split(\",\")\n",
    "    test_list.append(a)\n",
    "    b = test['label'][i].split(\",\")\n",
    "    test_label_list.append(b)"
   ]
  },
  {
   "cell_type": "code",
   "execution_count": 233,
   "metadata": {},
   "outputs": [],
   "source": [
    "test_data = np.array(test_list, dtype = 'float32')\n",
    "test_label = np.array(test_label_list, dtype = 'float32')"
   ]
  },
  {
   "cell_type": "code",
   "execution_count": 234,
   "metadata": {},
   "outputs": [],
   "source": [
    "def encode_label(label):\n",
    "    if label == \"nike\":\n",
    "        return [1,0]\n",
    "    else:\n",
    "        return [0,1]\n",
    "    \n",
    "train[\"label_encode\"] = train.label.apply(encode_label)\n",
    "test[\"label_encode\"] = test.label.apply(encode_label)\n",
    "\n",
    "train[\"img_encode\"] = '[[' + train[\"img_encode\"] + ']]'\n",
    "test[\"img_encode\"] = '[[' + test[\"img_encode\"] + ']]'"
   ]
  },
  {
   "cell_type": "code",
   "execution_count": 277,
   "metadata": {},
   "outputs": [
    {
     "name": "stdout",
     "output_type": "stream",
     "text": [
      "<tf.Variable 'Variable_3:0' shape=(64,) dtype=float32_ref>\n",
      "Tensor(\"Reshape_1:0\", shape=(?, 4096), dtype=float32)\n"
     ]
    },
    {
     "name": "stderr",
     "output_type": "stream",
     "text": [
      "/anaconda3/lib/python3.6/site-packages/tensorflow/python/client/session.py:1711: UserWarning: An interactive session is already active. This can cause out-of-memory errors in some cases. You must explicitly call `InteractiveSession.close()` to release resources held by the other session(s).\n",
      "  warnings.warn('An interactive session is already active. This can '\n"
     ]
    }
   ],
   "source": [
    "tf.reset_default_graph()\n",
    "\n",
    "np.random.seed(11111111)\n",
    "tf.set_random_seed(11111111)\n",
    "\n",
    "## first_layer\n",
    "\n",
    "first_filter = 32\n",
    "\n",
    "x = tf.placeholder(tf.float32, [None, 1024])\n",
    "image_x = tf.reshape(x, [-1,32,32,1])\n",
    "\n",
    "#print(image_x)\n",
    "# 필터 크기 : 5x5x1, 필터 수 = 32 / tf.truncated_normal : 임의의 수 지정\n",
    "# 스트라이드 = 1,1,1,1 / 패딩 : 특징 유실 방지(이미지 크기 보존)\n",
    "first_conv_w = tf.Variable(tf.truncated_normal([5,5,1,first_filter],stddev = 0.1))\n",
    "first_conv_h = tf.nn.conv2d(image_x, first_conv_w, strides=[1,1,1,1], padding = 'SAME')\n",
    "\n",
    "#print(first_conv_w)\n",
    "#print(first_conv_h)\n",
    "first_conv_b = tf.Variable(tf.constant(0.1, shape = [first_filter]))\n",
    "first_result = tf.nn.relu(first_conv_h + first_conv_b)\n",
    "\n",
    "#print(first_conv_b)\n",
    "#print(first_result)\n",
    "\n",
    "first_pool = tf.nn.max_pool(first_result, ksize=[1,2,2,1],\n",
    "                           strides = [1,2,2,1], padding = 'SAME')\n",
    "\n",
    "#print(first_pool)\n",
    "\n",
    "## second_layer\n",
    "\n",
    "second_filter = 64\n",
    "\n",
    "second_conv_w = tf.Variable(tf.truncated_normal([5,5,first_filter,\n",
    "                                                 second_filter], stddev = 0.1))\n",
    "#print(second_conv_w)\n",
    "second_conv_h = tf.nn.conv2d(first_pool, second_conv_w,\n",
    "                            strides = [1,1,1,1], padding = 'SAME')\n",
    "\n",
    "second_conv_b = tf.Variable(tf.constant(0.1, shape =[second_filter]))\n",
    "print(second_conv_b)\n",
    "second_result = tf.nn.relu(second_conv_h + second_conv_b)\n",
    "\n",
    "second_pool = tf.nn.max_pool(second_result, ksize = [1,2,2,1],\n",
    "                            strides = [1,2,2,1], padding = 'SAME')\n",
    "\n",
    "second_pool_flat = tf.reshape(second_pool, [-1, 8*8*second_filter])\n",
    "print(second_pool_flat)\n",
    "\n",
    "num_vec = 8*8*second_filter\n",
    "num_neuron = 1024\n",
    "\n",
    "w2 = tf.Variable(tf.truncated_normal([num_vec, num_neuron]))\n",
    "b2 = tf.Variable(tf.Variable(tf.constant(0.1, shape = [num_neuron])))\n",
    "hidden2 = tf.nn.relu(tf.matmul(second_pool_flat,w2) +b2)\n",
    "\n",
    "# dropout : 일부러 일부 노드 연결 끊음 -> 오버피팅 방지\n",
    "# hidden2 : 앞의 네트워크에서 전달된 값으로 keep_prob에 연결 비율 넣음\n",
    "\n",
    "keep_prob = tf.placeholder(tf.float32)\n",
    "hidden2_drop = tf.nn.dropout(hidden2, keep_prob)\n",
    "\n",
    "w0 = tf.Variable(tf.zeros([num_neuron, 2]))\n",
    "b0 = tf.Variable(tf.zeros([2]))\n",
    "k = tf.matmul(hidden2_drop, w0) + b0\n",
    "p = tf.nn.softmax(k)\n",
    "\n",
    "#define loss (cost) function\n",
    "t = tf.placeholder(tf.float32, [None, 2])\n",
    "loss = tf.reduce_mean(tf.nn.softmax_cross_entropy_with_logits(logits=k,labels=t)) \n",
    "train_step = tf.train.AdamOptimizer(0.0001).minimize(loss)\n",
    "correct_prediction = tf.equal(tf.argmax(p, 1), tf.argmax(t, 1))\n",
    "accuracy = tf.reduce_mean(tf.cast(correct_prediction, tf.float32))\n",
    "\n",
    "# prepare session\n",
    "sess = tf.InteractiveSession()\n",
    "sess.run(tf.global_variables_initializer())\n",
    "saver = tf.train.Saver()"
   ]
  },
  {
   "cell_type": "code",
   "execution_count": 278,
   "metadata": {},
   "outputs": [
    {
     "name": "stdout",
     "output_type": "stream",
     "text": [
      "Step: 2, Loss: 8.400848, Accuracy: 0.600267\n",
      "Step: 4, Loss: 13.885121, Accuracy: 0.600267\n",
      "Step: 6, Loss: 18.008326, Accuracy: 0.600267\n",
      "Step: 8, Loss: 21.265877, Accuracy: 0.600267\n",
      "Step: 10, Loss: 20.607372, Accuracy: 0.600267\n",
      "Step: 12, Loss: 13.838503, Accuracy: 0.600267\n",
      "Step: 14, Loss: 5.841381, Accuracy: 0.600267\n"
     ]
    }
   ],
   "source": [
    "#start training\n",
    "\n",
    "i = 0\n",
    "count = 0\n",
    "k = 0\n",
    "\n",
    "for _ in range(14):\n",
    "\n",
    "    \n",
    "    i += 1\n",
    "    batch_xs, batch_ts = train_data[count:count+50], train_label[count:count+50]\n",
    "    sess.run(train_step, feed_dict={x:batch_xs, t:batch_ts, keep_prob:0.5})\n",
    "\n",
    "    if i % 2 == 0:\n",
    "        loss_vals, acc_vals = [], []\n",
    "        for c in range(4):\n",
    "            \n",
    "            start = len(train_label) / 4 * c\n",
    "           \n",
    "\n",
    "            end = len(train_label) / 4 * (c+1)\n",
    "\n",
    "\n",
    "            loss_val, acc_val = sess.run([loss, accuracy],\n",
    "\n",
    "            feed_dict={x:train_data[int(start):int(end)], t:train_label[int(start):int(end)], keep_prob:1.0})\n",
    "\n",
    "            loss_vals.append(loss_val)\n",
    "\n",
    "            acc_vals.append(acc_val)\n",
    "\n",
    "        loss_val = np.sum(loss_vals)\n",
    "\n",
    "        acc_val = np.mean(acc_vals)\n",
    "\n",
    "        print ('Step: %d, Loss: %f, Accuracy: %f'% (i, loss_val, acc_val))\n",
    "\n",
    "    count += 50\n",
    "\n",
    "#saver.save(sess, 'cnn_session')\n",
    "sess.close()"
   ]
  },
  {
   "cell_type": "code",
   "execution_count": null,
   "metadata": {},
   "outputs": [],
   "source": []
  }
 ],
 "metadata": {
  "kernelspec": {
   "display_name": "Python 3",
   "language": "python",
   "name": "python3"
  },
  "language_info": {
   "codemirror_mode": {
    "name": "ipython",
    "version": 3
   },
   "file_extension": ".py",
   "mimetype": "text/x-python",
   "name": "python",
   "nbconvert_exporter": "python",
   "pygments_lexer": "ipython3",
   "version": "3.6.6"
  }
 },
 "nbformat": 4,
 "nbformat_minor": 2
}
